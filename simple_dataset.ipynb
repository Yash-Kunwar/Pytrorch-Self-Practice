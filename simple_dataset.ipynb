{
 "cells": [
  {
   "cell_type": "code",
   "execution_count": 1,
   "id": "9c906101",
   "metadata": {},
   "outputs": [],
   "source": [
    "import torch\n",
    "from torch.utils.data import Dataset"
   ]
  },
  {
   "cell_type": "markdown",
   "id": "4c40d4d4",
   "metadata": {},
   "source": [
    "DATASET"
   ]
  },
  {
   "cell_type": "code",
   "execution_count": 2,
   "id": "c295192d",
   "metadata": {},
   "outputs": [],
   "source": [
    "class toy_set(Dataset):\n",
    "    def __init__(self, length = 100, transform = None):\n",
    "        self.x = 2 * torch.ones(length, 2)\n",
    "        self.y = torch.ones(length, 1)\n",
    "        self.len = length\n",
    "        self.transform = transform\n",
    "\n",
    "    def __getitem__(self, index):\n",
    "        sample = self.x[index], self.y[index]\n",
    "        if self.transform:\n",
    "            sample = self.transform(sample)\n",
    "        return sample\n",
    "    \n",
    "    def __len__(self):\n",
    "        return self.len"
   ]
  },
  {
   "cell_type": "markdown",
   "id": "d69db46f",
   "metadata": {},
   "source": [
    "TRANSFORM"
   ]
  },
  {
   "cell_type": "code",
   "execution_count": 12,
   "id": "86c50e02",
   "metadata": {},
   "outputs": [],
   "source": [
    "class add_mult(object):\n",
    "\n",
    "    def __init__(self, addx = 1, muly = 1):\n",
    "        self.addx = addx\n",
    "        self.muly = muly\n",
    "    \n",
    "    def __cal__(self, sample):\n",
    "        x = sample[0]\n",
    "        y = sample[1]\n",
    "\n",
    "        x = x + self.addx\n",
    "        y = y * self.muly\n",
    "\n",
    "        sample = x, y\n",
    "        \n",
    "        return sample\n",
    "\n",
    "class mult(object):\n",
    "    def __init__(self, multfactor = 2):\n",
    "        self.multfactor = multfactor    \n",
    "    \n",
    "    def __call__(self, sample):\n",
    "        x = sample[0]\n",
    "        y = sample[1]\n",
    "        x = x * self.multfactor\n",
    "        y = y * self.multfactor\n",
    "\n",
    "        return x, y "
   ]
  },
  {
   "cell_type": "code",
   "execution_count": 13,
   "id": "96ca3df0",
   "metadata": {},
   "outputs": [],
   "source": [
    "a_m = add_mult()\n",
    "\n",
    "Dataset_ = toy_set(transform = a_m)"
   ]
  },
  {
   "cell_type": "markdown",
   "id": "ac1c337f",
   "metadata": {},
   "source": [
    "TRANSFORM COMPOSE"
   ]
  },
  {
   "cell_type": "code",
   "execution_count": 14,
   "id": "811e40c6",
   "metadata": {},
   "outputs": [],
   "source": [
    "from torchvision import transforms"
   ]
  },
  {
   "cell_type": "code",
   "execution_count": 15,
   "id": "22001168",
   "metadata": {},
   "outputs": [],
   "source": [
    "data_transform = transforms.Compose([add_mult(), mult()])"
   ]
  },
  {
   "cell_type": "code",
   "execution_count": 17,
   "id": "dd189b1c",
   "metadata": {},
   "outputs": [
    {
     "ename": "TypeError",
     "evalue": "'add_mult' object is not callable",
     "output_type": "error",
     "traceback": [
      "\u001b[31m---------------------------------------------------------------------------\u001b[39m",
      "\u001b[31mTypeError\u001b[39m                                 Traceback (most recent call last)",
      "\u001b[36mCell\u001b[39m\u001b[36m \u001b[39m\u001b[32mIn[17]\u001b[39m\u001b[32m, line 1\u001b[39m\n\u001b[32m----> \u001b[39m\u001b[32m1\u001b[39m x_, y_= \u001b[43mdata_transform\u001b[49m\u001b[43m(\u001b[49m\u001b[43mDataset\u001b[49m\u001b[43m[\u001b[49m\u001b[32;43m0\u001b[39;49m\u001b[43m]\u001b[49m\u001b[43m)\u001b[49m\n",
      "\u001b[36mFile \u001b[39m\u001b[32mc:\\Users\\yashk\\AppData\\Local\\Programs\\Python\\Python313\\Lib\\site-packages\\torchvision\\transforms\\transforms.py:95\u001b[39m, in \u001b[36mCompose.__call__\u001b[39m\u001b[34m(self, img)\u001b[39m\n\u001b[32m     93\u001b[39m \u001b[38;5;28;01mdef\u001b[39;00m\u001b[38;5;250m \u001b[39m\u001b[34m__call__\u001b[39m(\u001b[38;5;28mself\u001b[39m, img):\n\u001b[32m     94\u001b[39m     \u001b[38;5;28;01mfor\u001b[39;00m t \u001b[38;5;129;01min\u001b[39;00m \u001b[38;5;28mself\u001b[39m.transforms:\n\u001b[32m---> \u001b[39m\u001b[32m95\u001b[39m         img = \u001b[43mt\u001b[49m\u001b[43m(\u001b[49m\u001b[43mimg\u001b[49m\u001b[43m)\u001b[49m\n\u001b[32m     96\u001b[39m     \u001b[38;5;28;01mreturn\u001b[39;00m img\n",
      "\u001b[31mTypeError\u001b[39m: 'add_mult' object is not callable"
     ]
    }
   ],
   "source": [
    "x_, y_= data_transform(Dataset[0])"
   ]
  },
  {
   "cell_type": "code",
   "execution_count": null,
   "id": "6145ffd7",
   "metadata": {},
   "outputs": [],
   "source": []
  }
 ],
 "metadata": {
  "kernelspec": {
   "display_name": "Python 3",
   "language": "python",
   "name": "python3"
  },
  "language_info": {
   "codemirror_mode": {
    "name": "ipython",
    "version": 3
   },
   "file_extension": ".py",
   "mimetype": "text/x-python",
   "name": "python",
   "nbconvert_exporter": "python",
   "pygments_lexer": "ipython3",
   "version": "3.13.5"
  }
 },
 "nbformat": 4,
 "nbformat_minor": 5
}
